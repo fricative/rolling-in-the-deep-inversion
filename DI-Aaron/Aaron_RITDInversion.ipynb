{
  "nbformat": 4,
  "nbformat_minor": 0,
  "metadata": {
    "colab": {
      "name": "Aaron RITDInversion",
      "provenance": [],
      "collapsed_sections": []
    },
    "kernelspec": {
      "display_name": "Python 3",
      "name": "python3"
    },
    "language_info": {
      "name": "python"
    },
    "accelerator": "GPU"
  },
  "cells": [
    {
      "cell_type": "markdown",
      "metadata": {
        "id": "PaeeV2onwGtG"
      },
      "source": [
        "# Layer-wise scrutiny experiment notebook\n",
        "## Set up colab"
      ]
    },
    {
      "cell_type": "code",
      "metadata": {
        "colab": {
          "base_uri": "https://localhost:8080/"
        },
        "id": "sAfqVJgvy_Tx",
        "outputId": "b5ed693d-c500-4dbf-acda-c2737f1870aa"
      },
      "source": [
        "from google.colab import drive\n",
        "drive.mount(\"/content/drive/\")\n"
      ],
      "execution_count": null,
      "outputs": [
        {
          "output_type": "stream",
          "text": [
            "Mounted at /content/drive/\n"
          ],
          "name": "stdout"
        }
      ]
    },
    {
      "cell_type": "code",
      "metadata": {
        "colab": {
          "base_uri": "https://localhost:8080/"
        },
        "id": "5SNCiuyJzU4E",
        "outputId": "fab14cfb-d0b6-43dd-d7fe-0bbb3c6b2eb7"
      },
      "source": [
        "% cd '/content/drive/MyDrive/dl/RIDeepInversion/DI-Aaron'"
      ],
      "execution_count": null,
      "outputs": [
        {
          "output_type": "stream",
          "text": [
            "/content/drive/MyDrive/dl/RIDeepInversion/DI-Aaron\n"
          ],
          "name": "stdout"
        }
      ]
    },
    {
      "cell_type": "code",
      "metadata": {
        "colab": {
          "base_uri": "https://localhost:8080/"
        },
        "id": "H_HMtvpI0SDh",
        "outputId": "52c9848b-dd40-4da6-bc60-a6ca2cd9400d"
      },
      "source": [
        "!ls"
      ],
      "execution_count": null,
      "outputs": [
        {
          "output_type": "stream",
          "text": [
            "deepinversion.py\t log_exp1.txt  log_test.txt\n",
            "final_images\t\t log_exp2.txt  __pycache__\n",
            "generations\t\t log_exp3.txt  resnet50_combined_SIN_IN.pth.tar\n",
            "imagenet_class_dict.txt  log_exp4.txt  resnet50_combined_with_decay.pth.tar\n",
            "imagenet_inversion.py\t log_exp5.txt  resnet50_SIN.pth.tar\n",
            "log_exp11.txt\t\t log_exp6.txt  run_di.sh\n",
            "log_exp13.txt\t\t log_exp8.txt  utils\n",
            "log_exp14.txt\t\t log_exp9.txt\n"
          ],
          "name": "stdout"
        }
      ]
    },
    {
      "cell_type": "code",
      "metadata": {
        "colab": {
          "base_uri": "https://localhost:8080/"
        },
        "id": "fdptdhumRjAW",
        "outputId": "431824a5-9cbb-4a30-ad71-94b0bb53bca3"
      },
      "source": [
        "import sys \n",
        "sys.path.append('/content/drive/My Drive/dl/RIDeepInversion/DI-Aaron')\n",
        "sys.path"
      ],
      "execution_count": null,
      "outputs": [
        {
          "output_type": "execute_result",
          "data": {
            "text/plain": [
              "['',\n",
              " '/content',\n",
              " '/env/python',\n",
              " '/usr/lib/python37.zip',\n",
              " '/usr/lib/python3.7',\n",
              " '/usr/lib/python3.7/lib-dynload',\n",
              " '/usr/local/lib/python3.7/dist-packages',\n",
              " '/usr/lib/python3/dist-packages',\n",
              " '/usr/local/lib/python3.7/dist-packages/IPython/extensions',\n",
              " '/root/.ipython',\n",
              " '/content/drive/My Drive/dl/RIDeepInversion/DI-Aaron']"
            ]
          },
          "metadata": {
            "tags": []
          },
          "execution_count": 4
        }
      ]
    },
    {
      "cell_type": "markdown",
      "metadata": {
        "id": "rbU-amHCwVK0"
      },
      "source": [
        "## Run experiments"
      ]
    },
    {
      "cell_type": "code",
      "metadata": {
        "id": "Zw5MAnlm0T6Q"
      },
      "source": [
        "# I stopped using the shell script because it had a lot of weird behavior\n",
        "# when trying to run it in a loop, only when using Colab for some reason.\n",
        "\n",
        "\n",
        "#!bash run_di.sh\n"
      ],
      "execution_count": null,
      "outputs": []
    },
    {
      "cell_type": "code",
      "metadata": {
        "id": "9amdrxYLnm7c"
      },
      "source": [
        "%%capture exp7\n",
        "for i in [4, 5, 6, 14, 15, 16, 27, 28, 29, 46, 47, 48]:\n",
        "  !python imagenet_inversion.py --exp_name=\"exp7_IN_layer_{i}\" --bs=20 --arch_name=\"resnet50\" --store_best_images --setting_id=2 --targets=\"1,11,63,94,151,207,250,277,344,466,500,776,907,890,845,763,661,499,430,402\" --specified_layer={i}\n",
        "  !python imagenet_inversion.py --exp_name=\"exp7_SIN_layer_{i}\" --bs=42 --arch_name=\"resnet50_SIN.pth.tar\" --store_best_images --setting_id=2 --targets=\"1,11,63,94,151,207,250,277,344,466,500,776,907,890,845,763,661,499,430,402\" --specified_layer={i}\n"
      ],
      "execution_count": null,
      "outputs": []
    },
    {
      "cell_type": "code",
      "metadata": {
        "id": "-oh_mGWP5E3X"
      },
      "source": [
        "with open(f\"log_exp7.txt\", \"w\") as f:\n",
        "  f.write(str(exp7))"
      ],
      "execution_count": null,
      "outputs": []
    },
    {
      "cell_type": "markdown",
      "metadata": {
        "id": "ZhUqv_5Rw_Bn"
      },
      "source": [
        "## Experiment records"
      ]
    },
    {
      "cell_type": "markdown",
      "metadata": {
        "id": "6mVNGEtROLcg"
      },
      "source": [
        "### Experiment 1\n",
        "- All layers, ImageNet-based, 3000 iterations (2000 low-res).\n",
        "\n",
        "\n",
        "  !python imagenet_inversion.py \n",
        "\n",
        "  --exp_name=\"exp{i}\" \n",
        "\n",
        "  --bs=42 \n",
        "**bold text**\n",
        "  --arch_name=\"resnet50\" \n",
        "\n",
        "  --store_best_images \n",
        "\n",
        "  --setting_id=0 \n",
        "\n",
        "  --targets=\"1,2,11,25,63,92,94,107,151,154,207,250,270,277,283,292,340,288,289,344,385,386,466,599,607,776,907,955,972,937,930,904,890,845,763,661,499,490,489,479,430,402\" \n",
        "\n",
        "  --specified_layer={i}"
      ]
    },
    {
      "cell_type": "markdown",
      "metadata": {
        "id": "5NSLVCytPTCj"
      },
      "source": [
        " ### Experiment 2\n",
        "- Resnet50 trained on Stylized ImageNet, 3000 iterations.\n",
        "\n",
        "- Result - images look mostly like noise. I made a mistake - shouldn't have doubled batch size. going to try again without doing that just in case that was somehow causing the problem... \n",
        "\n",
        "- (turns out batch size wasn't the problem, either way it's fixed.)\n",
        "\n",
        "- Rerunning this after a bug fix. It worked!\n",
        "\n",
        "i from 1 to 52 (again skipping that first layer for consistency)\n",
        "\n",
        "  !python imagenet_inversion.py \n",
        "\n",
        "  --exp_name=\"exp2_layer_{i}\" \n",
        "\n",
        "  --bs=42\n",
        "\n",
        "  --arch_name=\"resnet50_SIN.pth.tar\"\n",
        "\n",
        "  --store_best_images \n",
        "\n",
        "  --setting_id=0 \n",
        "\n",
        "  --targets=\"1,2,11,25,63,92,94,107,151,154,207,250,270,277,283,292,340,288,289,344,24,386,466,599,607,776,907,955,972,937,930,904,890,845,763,661,499,490,489,479,430,402\" \n",
        "\n",
        "  --specified_layer={i}\n"
      ]
    },
    {
      "cell_type": "markdown",
      "metadata": {
        "id": "DOdOsT2a6EOB"
      },
      "source": [
        "### Experiment 3\n",
        "\n",
        "- RESULTS ALL RANDOM NOISE, don't bother with this one. Need to track down this bug.\n",
        "\n",
        "for i in range(1, 53, 5):\n",
        "\n",
        "  !python imagenet_inversion.py \n",
        "  \n",
        "  --exp_name=\"exp3_layer_{i}\" \n",
        "  \n",
        "  --bs=42 --arch_name=\"resnet50_SIN.pth.tar\" \n",
        "  \n",
        "  --store_best_images \n",
        "  \n",
        "  --setting_id=0 \n",
        "  \n",
        "  --targets=\"1,2,11,25,63,92,94,107,151,154,207,250,270,277,283,292,340,288,289,344,24,386,466,599,607,776,907,955,972,937,930,904,890,845,763,661,499,490,489,479,430,402\" \n",
        "  \n",
        "  --specified_layer={i}"
      ]
    },
    {
      "cell_type": "markdown",
      "metadata": {
        "id": "H0rCM8zUakuD"
      },
      "source": [
        "### Experiment 4\n",
        "\n",
        "- Going to try the combined SIN/IN + fine-tuning on IN version of the texture/shape weights. Trying to see if there's something wrong with the way the code is reading these weights, because so far it's just been random noise.\n",
        "\n",
        "- Result - more random noise. I think I know what happened.\n",
        "\n",
        "\n",
        "for i in range(1, 53, 7):\n",
        "  !python imagenet_inversion.py\n",
        "  \n",
        "   --exp_name=\"exp4_layer_{i}\" \n",
        "   \n",
        "   --bs=42 --arch_name=\"resnet50_combined_with_decay.pth.tar\" \n",
        "   \n",
        "   --store_best_images \n",
        "   \n",
        "   --setting_id=0 \n",
        "   \n",
        "   --targets=\"1,2,11,25,63,92,94,107,151,154,207,250,270,277,283,292,340,288,289,344,24,386,466,599,607,776,907,955,972,937,930,904,890,845,763,661,499,490,489,479,430,402\" \n",
        "   \n",
        "   --specified_layer={i}"
      ]
    },
    {
      "cell_type": "markdown",
      "metadata": {
        "id": "Gz0MpiO-rN2n"
      },
      "source": [
        "### Experiment 5\n",
        "\n",
        "- This is just a test to see if I fixed the bug. If this is successful will rerun experiment 2.\n",
        "\n",
        "- Success! Going back to experiment 2\n",
        "\n",
        "for i in range(1, 53, 11):\n",
        "\n",
        "  !python imagenet_inversion.py \n",
        "  \n",
        "  --exp_name=\"exp5_layer_{i}\" \n",
        "  \n",
        "  --bs=42 --arch_name=\"resnet50_combined_with_decay.pth.tar\" \n",
        "  \n",
        "  --store_best_images \n",
        "  \n",
        "  --setting_id=0 \n",
        "  \n",
        "  --targets=\"1,2,11,25,63,92,94,107,151,154,207,250,270,277,283,292,340,288,289,344,24,386,466,599,607,776,907,955,972,937,930,904,890,845,763,661,499,490,489,479,430,402\" \n",
        "  \n",
        "  --specified_layer={i}\n"
      ]
    },
    {
      "cell_type": "markdown",
      "metadata": {
        "id": "7ieMV7e5kR53"
      },
      "source": [
        "### Experiment 6\n",
        "\n",
        "- Need to get layer 1 for IN and SIN, since I didn't get it in Exp 1 and 2.\n",
        "\n",
        "- Had to fix the indexing bug.\n",
        "\n",
        "- Experiment 7 and onward when you specify layer 1 it's actually layer 1, before when you specified layer 2 it was really layer 1 and so on.\n",
        "\n",
        "\n",
        "!python imagenet_inversion.py \n",
        "\n",
        "--exp_name=\"exp6_IN_layer_0\" \n",
        "\n",
        "--bs=42 --arch_name=\"resnet50\" \n",
        "\n",
        "--store_best_images \n",
        "\n",
        "--setting_id=0 \n",
        "\n",
        "--targets=\"1,2,11,25,63,92,94,107,151,154,207,250,270,277,283,292,340,288,289,344,385,386,466,599,607,776,907,955,972,937,930,904,890,845,763,661,499,490,489,479,430,402\" \n",
        "\n",
        "--specified_layer=0\n",
        "\n",
        "\n",
        "\n",
        "\n",
        "!python imagenet_inversion.py \n",
        "\n",
        "--exp_name=\"exp6_SIN_layer_0\" \n",
        "\n",
        "--bs=42 \n",
        "\n",
        "--arch_name=\"resnet50_SIN.pth.tar\" \n",
        "\n",
        "--store_best_images \n",
        "\n",
        "--setting_id=0 \n",
        "\n",
        "--targets=\"1,2,11,25,63,92,94,107,151,154,207,250,270,277,283,292,340,288,289,344,385,386,466,599,607,776,907,955,972,937,930,904,890,845,763,661,499,490,489,479,430,402\" \n",
        "\n",
        "--specified_layer=0"
      ]
    },
    {
      "cell_type": "markdown",
      "metadata": {
        "id": "DpCwTOcyCpnp"
      },
      "source": [
        "### Experiment 7\n",
        "\n",
        "for i in [4, 5, 6, 14, 15, 16, 27, 28, 29, 46, 47, 48]:\n",
        "\n",
        "  !python imagenet_inversion.py \n",
        "  \n",
        "  --exp_name=\"exp7_IN_layer_{i}\" \n",
        "  \n",
        "  --bs=42 --arch_name=\"resnet50\"\n",
        "  \n",
        "   --store_best_images \n",
        "   \n",
        "   --setting_id=2 \n",
        "   \n",
        "   --targets=\"1,2,11,25,63,92,94,107,151,154,207,250,270,277,283,292,340,288,289,344,385,386,466,599,607,776,907,955,972,937,930,904,890,845,763,661,499,490,489,479,430,402\"\n",
        "    --specified_layer={i}\n",
        "\n",
        "  !python imagenet_inversion.py \n",
        "  \n",
        "  --exp_name=\"exp7_SIN_layer_{i}\" \n",
        "  \n",
        "  --bs=42 \n",
        "  \n",
        "  --arch_name=\"resnet50_SIN.pth.tar\" \n",
        "  \n",
        "  --store_best_images \n",
        "  \n",
        "  --setting_id=2 \n",
        "  \n",
        "  --targets=\"1,2,11,25,63,92,94,107,151,154,207,250,270,277,283,292,340,288,289,344,385,386,466,599,607,776,907,955,972,937,930,904,890,845,763,661,499,490,489,479,430,402\" \n",
        "  \n",
        "  --specified_layer={i}\n"
      ]
    },
    {
      "cell_type": "markdown",
      "metadata": {
        "id": "a57NY75rDHRH"
      },
      "source": [
        "### Experiment 8\n",
        "\n",
        "Last layer of each major resnet section, 20000 iterations, IN and SIN\n",
        "\n",
        "Individual layers, not combined!"
      ]
    },
    {
      "cell_type": "markdown",
      "metadata": {
        "id": "-efC-Cj5DQV5"
      },
      "source": [
        "### Experiment 9\n",
        "\n",
        "Blended each major resnet section's layers together, 20000, IN and SIN.\n",
        "\n",
        "These are the sum of the layers for that section.\n",
        "\n",
        "I eventually cancelled it, early results didn't look good and it was super slow.\n",
        "\n"
      ]
    },
    {
      "cell_type": "markdown",
      "metadata": {
        "id": "PDVi-5_exr-u"
      },
      "source": [
        "### Experiment 10\n",
        "\n",
        "Checking out some interesting layers, tuning alpha. Finding that other alpha values are all making it worse looking."
      ]
    },
    {
      "cell_type": "markdown",
      "metadata": {
        "id": "0lNX8mCZWymO"
      },
      "source": [
        "### Experiment 11\n",
        "\n",
        "Checking some interesting layers with a much higher alpha of 100."
      ]
    },
    {
      "cell_type": "markdown",
      "metadata": {
        "id": "3rlbiyVkAN-V"
      },
      "source": [
        "### Experiment 12\n",
        "\n",
        "setting id 2, all transition layers. alpha 100. results not helpful, too weird, can barely see what the image is."
      ]
    },
    {
      "cell_type": "markdown",
      "metadata": {
        "id": "DkJeASWgcCvB"
      },
      "source": [
        "### Experiment 13\n",
        "alpha 1, setting id 0. Also not helpful."
      ]
    },
    {
      "cell_type": "markdown",
      "metadata": {
        "id": "0F1kgbbIrj0y"
      },
      "source": [
        "### Experiment 14\n",
        "\n",
        "alpha 10, setting id 1. Not a huge improvement over setting id 0. Slow."
      ]
    },
    {
      "cell_type": "markdown",
      "metadata": {
        "id": "OXb3b-FIyeKw"
      },
      "source": [
        "### Experiment 15\n",
        "\n",
        "Grabbing a few more high res 20k iteration versions of layer 52 for a figure."
      ]
    }
  ]
}